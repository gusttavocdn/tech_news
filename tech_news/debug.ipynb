{
 "cells": [
  {
   "cell_type": "code",
   "execution_count": 1,
   "metadata": {},
   "outputs": [],
   "source": [
    "from tech_news.scraper import get_tech_news\n",
    "\n",
    "news = get_tech_news(10)"
   ]
  },
  {
   "cell_type": "code",
   "execution_count": 2,
   "metadata": {},
   "outputs": [],
   "source": [
    "from tech_news.analyzer.search_engine import search_by_title\n",
    "\n",
    "news = search_by_title(\"Qual a fortuna de Mark Zuckerberg?\")"
   ]
  }
 ],
 "metadata": {
  "kernelspec": {
   "display_name": ".venv",
   "language": "python",
   "name": "python3"
  },
  "language_info": {
   "codemirror_mode": {
    "name": "ipython",
    "version": 3
   },
   "file_extension": ".py",
   "mimetype": "text/x-python",
   "name": "python",
   "nbconvert_exporter": "python",
   "pygments_lexer": "ipython3",
   "version": "3.10.6"
  },
  "orig_nbformat": 4,
  "vscode": {
   "interpreter": {
    "hash": "ab484c8d9fc653f4a0e7c10b6bb624d2dff0a51aaa264f98bf2e3a23cdac5cdb"
   }
  }
 },
 "nbformat": 4,
 "nbformat_minor": 2
}
