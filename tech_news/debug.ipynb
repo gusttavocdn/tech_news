{
 "cells": [
  {
   "cell_type": "code",
   "execution_count": 12,
   "metadata": {},
   "outputs": [],
   "source": [
    "from tech_news.scraper import get_tech_news\n",
    "\n",
    "news = get_tech_news(12)"
   ]
  },
  {
   "cell_type": "code",
   "execution_count": 6,
   "metadata": {},
   "outputs": [],
   "source": [
    "from tech_news.database import find_news\n",
    "from tech_news.analyzer.ratings import top_5_news\n",
    "from collections import Counter\n",
    "\n",
    "\n",
    "news_list = find_news()\n",
    "\n",
    "\n",
    "\n"
   ]
  },
  {
   "cell_type": "code",
   "execution_count": null,
   "metadata": {},
   "outputs": [],
   "source": [
    "from tech_news.analyzer.ratings import top_5_categories\n",
    "\n",
    "categories = top_5_categories()"
   ]
  }
 ],
 "metadata": {
  "kernelspec": {
   "display_name": ".venv",
   "language": "python",
   "name": "python3"
  },
  "language_info": {
   "codemirror_mode": {
    "name": "ipython",
    "version": 3
   },
   "file_extension": ".py",
   "mimetype": "text/x-python",
   "name": "python",
   "nbconvert_exporter": "python",
   "pygments_lexer": "ipython3",
   "version": "3.10.6"
  },
  "orig_nbformat": 4,
  "vscode": {
   "interpreter": {
    "hash": "ab484c8d9fc653f4a0e7c10b6bb624d2dff0a51aaa264f98bf2e3a23cdac5cdb"
   }
  }
 },
 "nbformat": 4,
 "nbformat_minor": 2
}
