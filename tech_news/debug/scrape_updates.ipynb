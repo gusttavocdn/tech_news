{
 "cells": [
  {
   "cell_type": "code",
   "execution_count": 1,
   "metadata": {},
   "outputs": [],
   "source": [
    "from tech_news.scraper import fetch, scrape_next_page_link\n",
    "\n",
    "html_content = fetch(\"https://blog.betrybe.com/\")"
   ]
  },
  {
   "cell_type": "code",
   "execution_count": 2,
   "metadata": {},
   "outputs": [],
   "source": [
    "next_page = scrape_next_page_link(html_content)"
   ]
  },
  {
   "cell_type": "code",
   "execution_count": 6,
   "metadata": {},
   "outputs": [],
   "source": [
    "string = \"\"\"Uma das ferramentas mais tradicionais e completas para fazer um \n",
    "currículo é o editor de texto. Um editor de texto disponibiliza \n",
    "uma página em branco virtual para que você possa inserir \n",
    "caracteres e construir textos, dando a opção de formatá-los como \n",
    "bem entender. O mais famoso dos editores de texto é o Word \n",
    "Office, desenvolvido pela Microsoft, cujo nome acabou sendo\n",
    "utilizado para nomear toda uma grande variedade de outros\n",
    "editores. Sendo assim, neste guia, aprenderemos como fazer um\n",
    "currículo no Word e em outros editores semelhantes, que cumprem\n",
    "com a mesma função.\\xa0\"\"\"\n",
    "\n",
    "# final_char = string[-1]\n",
    "\n",
    "# if final_char != \".\":\n",
    "#     last_dot_index = string.rfind(\".\")\n",
    "#     string = string[:last_dot_index + 1]"
   ]
  }
 ],
 "metadata": {
  "kernelspec": {
   "display_name": ".venv",
   "language": "python",
   "name": "python3"
  },
  "language_info": {
   "codemirror_mode": {
    "name": "ipython",
    "version": 3
   },
   "file_extension": ".py",
   "mimetype": "text/x-python",
   "name": "python",
   "nbconvert_exporter": "python",
   "pygments_lexer": "ipython3",
   "version": "3.10.6"
  },
  "orig_nbformat": 4,
  "vscode": {
   "interpreter": {
    "hash": "ab484c8d9fc653f4a0e7c10b6bb624d2dff0a51aaa264f98bf2e3a23cdac5cdb"
   }
  }
 },
 "nbformat": 4,
 "nbformat_minor": 2
}
