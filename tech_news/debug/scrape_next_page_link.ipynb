{
 "cells": [
  {
   "cell_type": "code",
   "execution_count": null,
   "metadata": {},
   "outputs": [],
   "source": [
    "from scraper import fetch, scrape_updates\n",
    "\n",
    "html_content = fetch(\"https://blog.betrybe.com/\")"
   ]
  }
 ],
 "metadata": {
  "kernelspec": {
   "display_name": ".venv",
   "language": "python",
   "name": "python3"
  },
  "language_info": {
   "name": "python",
   "version": "3.10.6 (main, Nov 14 2022, 16:10:14) [GCC 11.3.0]"
  },
  "orig_nbformat": 4,
  "vscode": {
   "interpreter": {
    "hash": "ab484c8d9fc653f4a0e7c10b6bb624d2dff0a51aaa264f98bf2e3a23cdac5cdb"
   }
  }
 },
 "nbformat": 4,
 "nbformat_minor": 2
}
